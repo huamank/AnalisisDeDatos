{
 "cells": [
  {
   "cell_type": "code",
   "execution_count": 1,
   "metadata": {},
   "outputs": [],
   "source": [
    "import pandas as pd\n",
    "from sqlalchemy import create_engine"
   ]
  },
  {
   "cell_type": "code",
   "execution_count": 2,
   "metadata": {},
   "outputs": [],
   "source": [
    "DATABASE_CONFIG = {\n",
    "    'host': 'localhost',\n",
    "    'port': 3310,\n",
    "    'user': 'root',\n",
    "    'password': 'root',\n",
    "    'database': 'retail_db'\n",
    "}\n",
    "\n",
    "CSV_FILES = {\n",
    "    'customers': 'data/customers.csv',\n",
    "    'departments': 'data/departments.csv',\n",
    "    'categories': 'data/categories.csv',\n",
    "    'products': 'data/products.csv',\n",
    "    'orders': 'data/orders.csv',\n",
    "    'order_items': 'data/order_items.csv'\n",
    "}\n",
    "\n",
    "LOG_FILE = 'logs/pipeline.log'"
   ]
  },
  {
   "cell_type": "code",
   "execution_count": 15,
   "metadata": {},
   "outputs": [
    {
     "data": {
      "text/html": [
       "<div>\n",
       "<style scoped>\n",
       "    .dataframe tbody tr th:only-of-type {\n",
       "        vertical-align: middle;\n",
       "    }\n",
       "\n",
       "    .dataframe tbody tr th {\n",
       "        vertical-align: top;\n",
       "    }\n",
       "\n",
       "    .dataframe thead th {\n",
       "        text-align: right;\n",
       "    }\n",
       "</style>\n",
       "<table border=\"1\" class=\"dataframe\">\n",
       "  <thead>\n",
       "    <tr style=\"text-align: right;\">\n",
       "      <th></th>\n",
       "      <th>customer_id</th>\n",
       "      <th>customer_fname</th>\n",
       "      <th>customer_lname</th>\n",
       "      <th>customer_email</th>\n",
       "      <th>customer_password</th>\n",
       "      <th>customer_street</th>\n",
       "      <th>customer_city</th>\n",
       "      <th>customer_state</th>\n",
       "      <th>customer_zipcode</th>\n",
       "    </tr>\n",
       "  </thead>\n",
       "  <tbody>\n",
       "    <tr>\n",
       "      <th>0</th>\n",
       "      <td>1</td>\n",
       "      <td>Richard</td>\n",
       "      <td>Hernandez</td>\n",
       "      <td>XXXXXXXXX</td>\n",
       "      <td>XXXXXXXXX</td>\n",
       "      <td>6303 Heather Plaza</td>\n",
       "      <td>Brownsville</td>\n",
       "      <td>TX</td>\n",
       "      <td>78521</td>\n",
       "    </tr>\n",
       "    <tr>\n",
       "      <th>1</th>\n",
       "      <td>2</td>\n",
       "      <td>Mary</td>\n",
       "      <td>Barrett</td>\n",
       "      <td>XXXXXXXXX</td>\n",
       "      <td>XXXXXXXXX</td>\n",
       "      <td>9526 Noble Embers Ridge</td>\n",
       "      <td>Littleton</td>\n",
       "      <td>CO</td>\n",
       "      <td>80126</td>\n",
       "    </tr>\n",
       "    <tr>\n",
       "      <th>2</th>\n",
       "      <td>3</td>\n",
       "      <td>Ann</td>\n",
       "      <td>Smith</td>\n",
       "      <td>XXXXXXXXX</td>\n",
       "      <td>XXXXXXXXX</td>\n",
       "      <td>3422 Blue Pioneer Bend</td>\n",
       "      <td>Caguas</td>\n",
       "      <td>PR</td>\n",
       "      <td>725</td>\n",
       "    </tr>\n",
       "    <tr>\n",
       "      <th>3</th>\n",
       "      <td>4</td>\n",
       "      <td>Mary</td>\n",
       "      <td>Jones</td>\n",
       "      <td>XXXXXXXXX</td>\n",
       "      <td>XXXXXXXXX</td>\n",
       "      <td>8324 Little Common</td>\n",
       "      <td>San Marcos</td>\n",
       "      <td>CA</td>\n",
       "      <td>92069</td>\n",
       "    </tr>\n",
       "    <tr>\n",
       "      <th>4</th>\n",
       "      <td>5</td>\n",
       "      <td>Robert</td>\n",
       "      <td>Hudson</td>\n",
       "      <td>XXXXXXXXX</td>\n",
       "      <td>XXXXXXXXX</td>\n",
       "      <td>10 Crystal River Mall</td>\n",
       "      <td>Caguas</td>\n",
       "      <td>PR</td>\n",
       "      <td>725</td>\n",
       "    </tr>\n",
       "  </tbody>\n",
       "</table>\n",
       "</div>"
      ],
      "text/plain": [
       "   customer_id customer_fname customer_lname customer_email customer_password  \\\n",
       "0            1        Richard      Hernandez      XXXXXXXXX         XXXXXXXXX   \n",
       "1            2           Mary        Barrett      XXXXXXXXX         XXXXXXXXX   \n",
       "2            3            Ann          Smith      XXXXXXXXX         XXXXXXXXX   \n",
       "3            4           Mary          Jones      XXXXXXXXX         XXXXXXXXX   \n",
       "4            5         Robert         Hudson      XXXXXXXXX         XXXXXXXXX   \n",
       "\n",
       "           customer_street customer_city customer_state  customer_zipcode  \n",
       "0       6303 Heather Plaza   Brownsville             TX             78521  \n",
       "1  9526 Noble Embers Ridge     Littleton             CO             80126  \n",
       "2   3422 Blue Pioneer Bend        Caguas             PR               725  \n",
       "3       8324 Little Common    San Marcos             CA             92069  \n",
       "4   10 Crystal River Mall         Caguas             PR               725  "
      ]
     },
     "execution_count": 15,
     "metadata": {},
     "output_type": "execute_result"
    }
   ],
   "source": [
    "customer_df = pd.read_csv(CSV_FILES['customers'])\n",
    "customer_df.head()"
   ]
  },
  {
   "cell_type": "code",
   "execution_count": 24,
   "metadata": {},
   "outputs": [
    {
     "data": {
      "text/plain": [
       "np.False_"
      ]
     },
     "execution_count": 24,
     "metadata": {},
     "output_type": "execute_result"
    }
   ],
   "source": [
    "customer_df[['customer_fname', 'customer_lname', 'customer_email']].isnull().any().any()"
   ]
  },
  {
   "cell_type": "code",
   "execution_count": 17,
   "metadata": {},
   "outputs": [],
   "source": [
    "if customer_df[['customer_fname', 'customer_lname', 'customer_email', 'customer_street']].isnull().any().any():\n",
    "    print(\"Datos faltantes en el DataFrame de customers.\")"
   ]
  },
  {
   "cell_type": "code",
   "execution_count": 21,
   "metadata": {},
   "outputs": [
    {
     "data": {
      "text/plain": [
       "0        False\n",
       "1         True\n",
       "2         True\n",
       "3         True\n",
       "4         True\n",
       "         ...  \n",
       "12430     True\n",
       "12431     True\n",
       "12432     True\n",
       "12433     True\n",
       "12434     True\n",
       "Length: 12435, dtype: bool"
      ]
     },
     "execution_count": 21,
     "metadata": {},
     "output_type": "execute_result"
    }
   ],
   "source": [
    "customer_df[['customer_email', 'customer_password']].duplicated()"
   ]
  },
  {
   "cell_type": "code",
   "execution_count": 25,
   "metadata": {},
   "outputs": [
    {
     "name": "stdout",
     "output_type": "stream",
     "text": [
      "Hay customer_city duplicados en el DataFrame de customers.\n"
     ]
    }
   ],
   "source": [
    "if customer_df['customer_city'].duplicated().any():\n",
    "    print(\"Hay customer_city duplicados en el DataFrame de customers.\")"
   ]
  },
  {
   "cell_type": "code",
   "execution_count": null,
   "metadata": {},
   "outputs": [],
   "source": []
  }
 ],
 "metadata": {
  "kernelspec": {
   "display_name": "Python 3",
   "language": "python",
   "name": "python3"
  },
  "language_info": {
   "codemirror_mode": {
    "name": "ipython",
    "version": 3
   },
   "file_extension": ".py",
   "mimetype": "text/x-python",
   "name": "python",
   "nbconvert_exporter": "python",
   "pygments_lexer": "ipython3",
   "version": "3.12.1"
  }
 },
 "nbformat": 4,
 "nbformat_minor": 2
}
